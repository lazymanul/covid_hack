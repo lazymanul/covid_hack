{
 "cells": [
  {
   "cell_type": "code",
   "execution_count": null,
   "id": "e39ddc21",
   "metadata": {},
   "outputs": [],
   "source": [
    "!pip install OSMPythonTools"
   ]
  },
  {
   "cell_type": "code",
   "execution_count": null,
   "id": "5011dee2",
   "metadata": {},
   "outputs": [],
   "source": [
    "from OSMPythonTools.overpass import Overpass"
   ]
  },
  {
   "cell_type": "code",
   "execution_count": null,
   "id": "227bdb03",
   "metadata": {},
   "outputs": [],
   "source": [
    "import pandas as pd"
   ]
  },
  {
   "cell_type": "code",
   "execution_count": null,
   "id": "e7e8bb17",
   "metadata": {},
   "outputs": [],
   "source": [
    "overpass = Overpass()"
   ]
  },
  {
   "cell_type": "code",
   "execution_count": null,
   "id": "c05c3d54",
   "metadata": {},
   "outputs": [],
   "source": [
    "result.elements()[0].tag(\"name\")"
   ]
  },
  {
   "cell_type": "code",
   "execution_count": null,
   "id": "6e1c4ad6",
   "metadata": {},
   "outputs": [],
   "source": [
    "result = overpass.query(\n",
    "    \"\"\"area[\"ISO3166-1\"=\"RU\"]->.a1;\n",
    "        (\n",
    "          nwr[place=\"city\"](area.a1);\n",
    "          nwr[place=\"town\"](area.a1);\n",
    "        );\n",
    "        out body;\n",
    "    \"\"\",\n",
    "    timeout=9000\n",
    ")"
   ]
  },
  {
   "cell_type": "code",
   "execution_count": null,
   "id": "95496f6c",
   "metadata": {},
   "outputs": [],
   "source": [
    "def get_region_name(lat, lon):\n",
    "    if lat is None:\n",
    "        return None\n",
    "    if lon is None:\n",
    "        return None\n",
    "    result = overpass.query(\n",
    "        f\"\"\"is_in({lat}, {lon});\n",
    "           area._[admin_level=\"4\"]; \n",
    "           out body;\n",
    "        \"\"\",\n",
    "        timeout=9000,\n",
    "    )\n",
    "    return result.elements()[0].tags()[\"name:ru\"]"
   ]
  },
  {
   "cell_type": "code",
   "execution_count": null,
   "id": "6c8c9d29",
   "metadata": {},
   "outputs": [],
   "source": [
    "data = [\n",
    "    {\n",
    "        \"name\": c.tag(\"name\"),\n",
    "        \"start_date\": c.tag(\"start_date\"),\n",
    "        \"population\": c.tag(\"population\"),\n",
    "        \"admin_level\": c.tag(\"admin_level\"),\n",
    "        \"capital\": c.tag(\"capital\"),\n",
    "        \"lat\": c.lat(),\n",
    "        \"lon\": c.lon(),\n",
    "        \"region\": get_region_name(c.lat(), c.lon())\n",
    "    }\n",
    "    for c in list(result.elements())\n",
    "]"
   ]
  },
  {
   "cell_type": "code",
   "execution_count": null,
   "id": "ce64e0db",
   "metadata": {},
   "outputs": [],
   "source": [
    "df = pd.DataFrame(data)"
   ]
  },
  {
   "cell_type": "code",
   "execution_count": null,
   "id": "ef2c1a69",
   "metadata": {},
   "outputs": [],
   "source": [
    "df = df[df['region'].notna()]"
   ]
  },
  {
   "cell_type": "code",
   "execution_count": null,
   "id": "9044067c",
   "metadata": {},
   "outputs": [],
   "source": [
    "df"
   ]
  },
  {
   "cell_type": "code",
   "execution_count": null,
   "id": "39995df4",
   "metadata": {},
   "outputs": [],
   "source": [
    "df.to_csv(\"osm_cities_and_towns.csv\", index=False)"
   ]
  },
  {
   "cell_type": "markdown",
   "id": "b607723a",
   "metadata": {},
   "source": [
    "# Caffee"
   ]
  },
  {
   "cell_type": "code",
   "execution_count": null,
   "id": "756f53ff",
   "metadata": {},
   "outputs": [],
   "source": [
    "from tqdm.autonotebook import tqdm"
   ]
  },
  {
   "cell_type": "code",
   "execution_count": null,
   "id": "78a34dc3",
   "metadata": {},
   "outputs": [],
   "source": [
    "df = pd.read_csv('./Тестовый датасет/covid_data_test.csv', sep=',')"
   ]
  },
  {
   "cell_type": "code",
   "execution_count": null,
   "id": "98978e0b",
   "metadata": {},
   "outputs": [],
   "source": [
    "cities = df[\"name\"]\n",
    "subjects = df[\"subject\"]"
   ]
  },
  {
   "cell_type": "code",
   "execution_count": null,
   "id": "e415c35d",
   "metadata": {},
   "outputs": [],
   "source": [
    "from OSMPythonTools.nominatim import Nominatim\n",
    "from OSMPythonTools.overpass import overpassQueryBuilder, Overpass"
   ]
  },
  {
   "cell_type": "code",
   "execution_count": null,
   "id": "ed0b49e9",
   "metadata": {},
   "outputs": [],
   "source": [
    "amenities = [\n",
    "    \"bar\",\n",
    "#     \"biergarten\",\n",
    "    \"cafe\",\n",
    "    \"fast_food\",\n",
    "#     \"food_court\",\n",
    "#     \"ice_cream\",\n",
    "    \"pub\",\n",
    "    \"restaurant\",\n",
    "    \"clinic\",\n",
    "    \"hospital\",\n",
    "    \"pharmacy\",\n",
    "    \"cinema\",\n",
    "    \"nightclub\",\n",
    "#     \"stripclub\",\n",
    "    \"theatre\",\n",
    "#     \"prison\",\n",
    "#     \"fitness_centre\",\n",
    "#     \"sports_centre\",\n",
    "#     \"monastery\",\n",
    "    \"place_of_worship\"\n",
    "]"
   ]
  },
  {
   "cell_type": "code",
   "execution_count": null,
   "id": "9642d311",
   "metadata": {},
   "outputs": [],
   "source": [
    "overpass = Overpass()\n",
    "\n",
    "data = []\n",
    "\n",
    "for (\n",
    "    c,\n",
    "    s,\n",
    ") in tqdm(list(zip(cities, subjects))):\n",
    "    stat = {\"name\": c, \"subject\": s}\n",
    "    \n",
    "    s = s.replace(\"Еврейская АО\", \"Еврейская Автономная область\")\n",
    "    s = s.replace(\"АО\", \"автономный округ\")\n",
    "\n",
    "    nominatim = Nominatim()\n",
    "    areaId = nominatim.query(f\"{c}, {s}, Россия\").areaId()\n",
    "    if areaId is None:\n",
    "        areaId = nominatim.query(f\"{c}, {s}, Украина\").areaId()\n",
    "    if areaId is None:\n",
    "        continue\n",
    "        print(\"Error\", c, s)\n",
    "\n",
    "    for a in amenities:\n",
    "        query = overpassQueryBuilder(\n",
    "            area=areaId, elementType=\"node\", selector=f'\"amenity\"=\"{a}\"', out=\"count\"\n",
    "        )\n",
    "        result = overpass.query(query, timeout=9000)\n",
    "        stat[a] = result.countElements()\n",
    "        \n",
    "    query = overpassQueryBuilder(\n",
    "        area=areaId, elementType=\"node\", selector='\"railway\"=\"halt\"', out=\"count\"\n",
    "    )\n",
    "    result = overpass.query(query, timeout=9000)\n",
    "    stat[\"railway_halt\"] = result.countElements()\n",
    "\n",
    "    data.append(stat)"
   ]
  },
  {
   "cell_type": "code",
   "execution_count": null,
   "id": "4546a62d",
   "metadata": {},
   "outputs": [],
   "source": [
    "osm_stat = pd.DataFrame(data)"
   ]
  },
  {
   "cell_type": "code",
   "execution_count": null,
   "id": "d1a2c203",
   "metadata": {},
   "outputs": [],
   "source": [
    "osm_stat.to_csv(\"osm_stat_train.csv\", index=False)"
   ]
  },
  {
   "cell_type": "code",
   "execution_count": null,
   "id": "6f96608f",
   "metadata": {},
   "outputs": [],
   "source": [
    "osm_stat"
   ]
  },
  {
   "cell_type": "code",
   "execution_count": null,
   "id": "2ec8ddf2",
   "metadata": {},
   "outputs": [],
   "source": [
    "for d in osm_stat.columns:\n",
    "    print(d)\n",
    "    print(osm_stat[osm_stat[d] == 0].shape)"
   ]
  }
 ],
 "metadata": {
  "kernelspec": {
   "display_name": "Python 3",
   "language": "python",
   "name": "python3"
  },
  "language_info": {
   "codemirror_mode": {
    "name": "ipython",
    "version": 3
   },
   "file_extension": ".py",
   "mimetype": "text/x-python",
   "name": "python",
   "nbconvert_exporter": "python",
   "pygments_lexer": "ipython3",
   "version": "3.8.10"
  }
 },
 "nbformat": 4,
 "nbformat_minor": 5
}
