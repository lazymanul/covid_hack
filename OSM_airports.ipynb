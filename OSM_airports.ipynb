{
 "cells": [
  {
   "cell_type": "code",
   "execution_count": null,
   "id": "96ea0e62",
   "metadata": {},
   "outputs": [],
   "source": [
    "from tqdm.autonotebook import tqdm\n",
    "from OSMPythonTools.nominatim import Nominatim\n",
    "from OSMPythonTools.overpass import overpassQueryBuilder, Overpass\n",
    "import pandas as pd"
   ]
  },
  {
   "cell_type": "code",
   "execution_count": null,
   "id": "316e2f2b",
   "metadata": {},
   "outputs": [],
   "source": [
    "df = pd.read_csv('./Тестовый датасет/covid_data_test.csv', sep=',')\n",
    "# df = pd.read_csv('./предсказание_пандемий_при_помощи_ИИ/covid_data_train.csv', sep=';')"
   ]
  },
  {
   "cell_type": "code",
   "execution_count": null,
   "id": "e8a304bf",
   "metadata": {},
   "outputs": [],
   "source": [
    "df"
   ]
  },
  {
   "cell_type": "code",
   "execution_count": null,
   "id": "b04390b2",
   "metadata": {},
   "outputs": [],
   "source": [
    "# df = df[df.name == \"Новосибирск\"]"
   ]
  },
  {
   "cell_type": "code",
   "execution_count": null,
   "id": "3490b8ec",
   "metadata": {},
   "outputs": [],
   "source": [
    "cities = df[\"name\"]\n",
    "subjects = df[\"subject\"]\n",
    "lats = df[\"lat\"]\n",
    "lons = df[\"lng\"]"
   ]
  },
  {
   "cell_type": "code",
   "execution_count": null,
   "id": "e7e8bb17",
   "metadata": {},
   "outputs": [],
   "source": [
    "overpass = Overpass()"
   ]
  },
  {
   "cell_type": "code",
   "execution_count": null,
   "id": "d2cd8835",
   "metadata": {},
   "outputs": [],
   "source": [
    "radius = 70000\n",
    "\n",
    "data = []\n",
    "for c, s, lat, lon in zip(cities, subjects, lats, lons):\n",
    "    result = overpass.query(\n",
    "        f\"\"\"\n",
    "        (\n",
    "          node[\"aeroway\"=\"aerodrome\"](around:{radius},{lat},{lon});\n",
    "          way[\"aeroway\"=\"aerodrome\"](around:{radius},{lat},{lon});\n",
    "          relation[\"aeroway\"=\"aerodrome\"](around:{radius},{lat},{lon});\n",
    "        );\n",
    "        out body;\n",
    "        \"\"\",\n",
    "        timeout=9000,\n",
    "    )\n",
    "    total_aerodrome = len(result.elements())\n",
    "    internationals_aerodrome = 0\n",
    "    for a in result.elements():\n",
    "        try:\n",
    "            if a.tags()[\"aerodrome\"] == 'international':\n",
    "                internationals_aerodrome += 1\n",
    "        except:\n",
    "            pass\n",
    "        \n",
    "    data.append({\n",
    "        \"name\": c,\n",
    "        \"subject\": s,\n",
    "        \"total_aerodrome\": total_aerodrome,\n",
    "        \"internationals_aerodrome\": internationals_aerodrome\n",
    "    })"
   ]
  },
  {
   "cell_type": "code",
   "execution_count": null,
   "id": "8fa57926",
   "metadata": {},
   "outputs": [],
   "source": [
    "df = pd.DataFrame(data)"
   ]
  },
  {
   "cell_type": "code",
   "execution_count": null,
   "id": "d458eba2",
   "metadata": {},
   "outputs": [],
   "source": [
    "df"
   ]
  },
  {
   "cell_type": "code",
   "execution_count": null,
   "id": "b79d7da7",
   "metadata": {},
   "outputs": [],
   "source": [
    "df.to_csv(\"osm_aerodrome_test.csv\", index=False)\n",
    "# df.to_csv(\"osm_aerodrome_train.csv\", index=False)"
   ]
  },
  {
   "cell_type": "code",
   "execution_count": null,
   "id": "158c8307",
   "metadata": {},
   "outputs": [],
   "source": []
  }
 ],
 "metadata": {
  "kernelspec": {
   "display_name": "Python 3",
   "language": "python",
   "name": "python3"
  },
  "language_info": {
   "codemirror_mode": {
    "name": "ipython",
    "version": 3
   },
   "file_extension": ".py",
   "mimetype": "text/x-python",
   "name": "python",
   "nbconvert_exporter": "python",
   "pygments_lexer": "ipython3",
   "version": "3.8.10"
  }
 },
 "nbformat": 4,
 "nbformat_minor": 5
}
