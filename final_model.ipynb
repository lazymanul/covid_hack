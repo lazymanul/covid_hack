{
  "nbformat": 4,
  "nbformat_minor": 0,
  "metadata": {
    "colab": {
      "name": "final_model.ipynb",
      "provenance": []
    },
    "kernelspec": {
      "name": "python3",
      "display_name": "Python 3"
    },
    "language_info": {
      "name": "python"
    }
  },
  "cells": [
    {
      "cell_type": "code",
      "source": [
        "! pip install category_encoders"
      ],
      "metadata": {
        "colab": {
          "base_uri": "https://localhost:8080/"
        },
        "id": "dEwLjRUJMXf0",
        "outputId": "56763052-2111-44ed-bf45-415414571928"
      },
      "execution_count": 4,
      "outputs": [
        {
          "output_type": "stream",
          "name": "stdout",
          "text": [
            "Looking in indexes: https://pypi.org/simple, https://us-python.pkg.dev/colab-wheels/public/simple/\n",
            "Collecting category_encoders\n",
            "  Downloading category_encoders-2.5.0-py2.py3-none-any.whl (69 kB)\n",
            "\u001b[K     |████████████████████████████████| 69 kB 5.8 MB/s \n",
            "\u001b[?25hRequirement already satisfied: pandas>=1.0.5 in /usr/local/lib/python3.7/dist-packages (from category_encoders) (1.3.5)\n",
            "Requirement already satisfied: statsmodels>=0.9.0 in /usr/local/lib/python3.7/dist-packages (from category_encoders) (0.10.2)\n",
            "Requirement already satisfied: patsy>=0.5.1 in /usr/local/lib/python3.7/dist-packages (from category_encoders) (0.5.2)\n",
            "Requirement already satisfied: numpy>=1.14.0 in /usr/local/lib/python3.7/dist-packages (from category_encoders) (1.21.6)\n",
            "Requirement already satisfied: scipy>=1.0.0 in /usr/local/lib/python3.7/dist-packages (from category_encoders) (1.7.3)\n",
            "Requirement already satisfied: scikit-learn>=0.20.0 in /usr/local/lib/python3.7/dist-packages (from category_encoders) (1.0.2)\n",
            "Requirement already satisfied: python-dateutil>=2.7.3 in /usr/local/lib/python3.7/dist-packages (from pandas>=1.0.5->category_encoders) (2.8.2)\n",
            "Requirement already satisfied: pytz>=2017.3 in /usr/local/lib/python3.7/dist-packages (from pandas>=1.0.5->category_encoders) (2022.1)\n",
            "Requirement already satisfied: six in /usr/local/lib/python3.7/dist-packages (from patsy>=0.5.1->category_encoders) (1.15.0)\n",
            "Requirement already satisfied: joblib>=0.11 in /usr/local/lib/python3.7/dist-packages (from scikit-learn>=0.20.0->category_encoders) (1.1.0)\n",
            "Requirement already satisfied: threadpoolctl>=2.0.0 in /usr/local/lib/python3.7/dist-packages (from scikit-learn>=0.20.0->category_encoders) (3.1.0)\n",
            "Installing collected packages: category-encoders\n",
            "Successfully installed category-encoders-2.5.0\n"
          ]
        }
      ]
    },
    {
      "cell_type": "code",
      "execution_count": 1,
      "metadata": {
        "colab": {
          "base_uri": "https://localhost:8080/"
        },
        "id": "TA_REpsXFvEF",
        "outputId": "712410df-3b53-4d66-e84f-5ac3281e672d"
      },
      "outputs": [
        {
          "output_type": "stream",
          "name": "stderr",
          "text": [
            "/usr/local/lib/python3.7/dist-packages/statsmodels/tools/_testing.py:19: FutureWarning: pandas.util.testing is deprecated. Use the functions in the public API at pandas.testing instead.\n",
            "  import pandas.util.testing as tm\n"
          ]
        }
      ],
      "source": [
        "import pandas as pd\n",
        "from sklearn.metrics import mean_absolute_error\n",
        "\n",
        "pd.set_option('display.max_columns', 500)\n",
        "from category_encoders.target_encoder import TargetEncoder\n",
        "from sklearn.ensemble import RandomForestRegressor\n",
        "from sklearn.model_selection import GridSearchCV, train_test_split"
      ]
    },
    {
      "cell_type": "code",
      "source": [
        "PATH_TO_DATA = 'covid_data_train_new.csv'\n",
        "PATH_TO_TEST = 'covid_data_test.csv'"
      ],
      "metadata": {
        "id": "nCpFAqv4MFm9"
      },
      "execution_count": 2,
      "outputs": []
    },
    {
      "cell_type": "code",
      "source": [
        "covid_df = pd.read_csv(PATH_TO_DATA)\n",
        "covid_df = covid_df.drop(columns=['Unnamed: 0'])\n",
        "\n",
        "# исключим дубликаты городов и записи без таргета \n",
        "covid_df = covid_df[covid_df['inf_rate'].notna()]\n",
        "covid_df = covid_df.drop_duplicates(subset='lat')"
      ],
      "metadata": {
        "id": "E5X2IsRfbpDx"
      },
      "execution_count": 3,
      "outputs": []
    },
    {
      "cell_type": "markdown",
      "source": [
        "### Сгенерируем признаки"
      ],
      "metadata": {
        "id": "d0lbl5qrIdAJ"
      }
    },
    {
      "cell_type": "code",
      "source": [
        "# строки нельзя подать в Random Forest, поэтому будем использовать для них TargetEncoder\n",
        "covid_df.select_dtypes('object')"
      ],
      "metadata": {
        "colab": {
          "base_uri": "https://localhost:8080/",
          "height": 424
        },
        "id": "HWG6VCkv_wZl",
        "outputId": "42e6ed01-5e0b-4cde-fc19-8363687c735e"
      },
      "execution_count": 4,
      "outputs": [
        {
          "output_type": "execute_result",
          "data": {
            "text/plain": [
              "                name         district               subject  \\\n",
              "0              Абаза        Сибирский               Хакасия   \n",
              "1             Абакан        Сибирский               Хакасия   \n",
              "2           Абдулино      Приволжский  Оренбургская область   \n",
              "3             Абинск            Южный    Краснодарский край   \n",
              "4              Агрыз      Приволжский             Татарстан   \n",
              "..               ...              ...                   ...   \n",
              "446         Макарьев      Центральный   Костромская область   \n",
              "447         Макушино        Уральский    Курганская область   \n",
              "448     Малая Вишера  Северо-Западный  Новгородская область   \n",
              "449  Малоархангельск      Центральный     Орловская область   \n",
              "450    Малоярославец      Центральный     Калужская область   \n",
              "\n",
              "                 region_x  \n",
              "0      Республика Хакасия  \n",
              "1      Республика Хакасия  \n",
              "2    Оренбургская область  \n",
              "3      Краснодарский край  \n",
              "4    Республика Татарстан  \n",
              "..                    ...  \n",
              "446   Костромская область  \n",
              "447    Курганская область  \n",
              "448  Новгородская область  \n",
              "449     Орловская область  \n",
              "450     Калужская область  \n",
              "\n",
              "[395 rows x 4 columns]"
            ],
            "text/html": [
              "\n",
              "  <div id=\"df-935e2fc6-a1d0-4c78-83cb-8758f4966e0c\">\n",
              "    <div class=\"colab-df-container\">\n",
              "      <div>\n",
              "<style scoped>\n",
              "    .dataframe tbody tr th:only-of-type {\n",
              "        vertical-align: middle;\n",
              "    }\n",
              "\n",
              "    .dataframe tbody tr th {\n",
              "        vertical-align: top;\n",
              "    }\n",
              "\n",
              "    .dataframe thead th {\n",
              "        text-align: right;\n",
              "    }\n",
              "</style>\n",
              "<table border=\"1\" class=\"dataframe\">\n",
              "  <thead>\n",
              "    <tr style=\"text-align: right;\">\n",
              "      <th></th>\n",
              "      <th>name</th>\n",
              "      <th>district</th>\n",
              "      <th>subject</th>\n",
              "      <th>region_x</th>\n",
              "    </tr>\n",
              "  </thead>\n",
              "  <tbody>\n",
              "    <tr>\n",
              "      <th>0</th>\n",
              "      <td>Абаза</td>\n",
              "      <td>Сибирский</td>\n",
              "      <td>Хакасия</td>\n",
              "      <td>Республика Хакасия</td>\n",
              "    </tr>\n",
              "    <tr>\n",
              "      <th>1</th>\n",
              "      <td>Абакан</td>\n",
              "      <td>Сибирский</td>\n",
              "      <td>Хакасия</td>\n",
              "      <td>Республика Хакасия</td>\n",
              "    </tr>\n",
              "    <tr>\n",
              "      <th>2</th>\n",
              "      <td>Абдулино</td>\n",
              "      <td>Приволжский</td>\n",
              "      <td>Оренбургская область</td>\n",
              "      <td>Оренбургская область</td>\n",
              "    </tr>\n",
              "    <tr>\n",
              "      <th>3</th>\n",
              "      <td>Абинск</td>\n",
              "      <td>Южный</td>\n",
              "      <td>Краснодарский край</td>\n",
              "      <td>Краснодарский край</td>\n",
              "    </tr>\n",
              "    <tr>\n",
              "      <th>4</th>\n",
              "      <td>Агрыз</td>\n",
              "      <td>Приволжский</td>\n",
              "      <td>Татарстан</td>\n",
              "      <td>Республика Татарстан</td>\n",
              "    </tr>\n",
              "    <tr>\n",
              "      <th>...</th>\n",
              "      <td>...</td>\n",
              "      <td>...</td>\n",
              "      <td>...</td>\n",
              "      <td>...</td>\n",
              "    </tr>\n",
              "    <tr>\n",
              "      <th>446</th>\n",
              "      <td>Макарьев</td>\n",
              "      <td>Центральный</td>\n",
              "      <td>Костромская область</td>\n",
              "      <td>Костромская область</td>\n",
              "    </tr>\n",
              "    <tr>\n",
              "      <th>447</th>\n",
              "      <td>Макушино</td>\n",
              "      <td>Уральский</td>\n",
              "      <td>Курганская область</td>\n",
              "      <td>Курганская область</td>\n",
              "    </tr>\n",
              "    <tr>\n",
              "      <th>448</th>\n",
              "      <td>Малая Вишера</td>\n",
              "      <td>Северо-Западный</td>\n",
              "      <td>Новгородская область</td>\n",
              "      <td>Новгородская область</td>\n",
              "    </tr>\n",
              "    <tr>\n",
              "      <th>449</th>\n",
              "      <td>Малоархангельск</td>\n",
              "      <td>Центральный</td>\n",
              "      <td>Орловская область</td>\n",
              "      <td>Орловская область</td>\n",
              "    </tr>\n",
              "    <tr>\n",
              "      <th>450</th>\n",
              "      <td>Малоярославец</td>\n",
              "      <td>Центральный</td>\n",
              "      <td>Калужская область</td>\n",
              "      <td>Калужская область</td>\n",
              "    </tr>\n",
              "  </tbody>\n",
              "</table>\n",
              "<p>395 rows × 4 columns</p>\n",
              "</div>\n",
              "      <button class=\"colab-df-convert\" onclick=\"convertToInteractive('df-935e2fc6-a1d0-4c78-83cb-8758f4966e0c')\"\n",
              "              title=\"Convert this dataframe to an interactive table.\"\n",
              "              style=\"display:none;\">\n",
              "        \n",
              "  <svg xmlns=\"http://www.w3.org/2000/svg\" height=\"24px\"viewBox=\"0 0 24 24\"\n",
              "       width=\"24px\">\n",
              "    <path d=\"M0 0h24v24H0V0z\" fill=\"none\"/>\n",
              "    <path d=\"M18.56 5.44l.94 2.06.94-2.06 2.06-.94-2.06-.94-.94-2.06-.94 2.06-2.06.94zm-11 1L8.5 8.5l.94-2.06 2.06-.94-2.06-.94L8.5 2.5l-.94 2.06-2.06.94zm10 10l.94 2.06.94-2.06 2.06-.94-2.06-.94-.94-2.06-.94 2.06-2.06.94z\"/><path d=\"M17.41 7.96l-1.37-1.37c-.4-.4-.92-.59-1.43-.59-.52 0-1.04.2-1.43.59L10.3 9.45l-7.72 7.72c-.78.78-.78 2.05 0 2.83L4 21.41c.39.39.9.59 1.41.59.51 0 1.02-.2 1.41-.59l7.78-7.78 2.81-2.81c.8-.78.8-2.07 0-2.86zM5.41 20L4 18.59l7.72-7.72 1.47 1.35L5.41 20z\"/>\n",
              "  </svg>\n",
              "      </button>\n",
              "      \n",
              "  <style>\n",
              "    .colab-df-container {\n",
              "      display:flex;\n",
              "      flex-wrap:wrap;\n",
              "      gap: 12px;\n",
              "    }\n",
              "\n",
              "    .colab-df-convert {\n",
              "      background-color: #E8F0FE;\n",
              "      border: none;\n",
              "      border-radius: 50%;\n",
              "      cursor: pointer;\n",
              "      display: none;\n",
              "      fill: #1967D2;\n",
              "      height: 32px;\n",
              "      padding: 0 0 0 0;\n",
              "      width: 32px;\n",
              "    }\n",
              "\n",
              "    .colab-df-convert:hover {\n",
              "      background-color: #E2EBFA;\n",
              "      box-shadow: 0px 1px 2px rgba(60, 64, 67, 0.3), 0px 1px 3px 1px rgba(60, 64, 67, 0.15);\n",
              "      fill: #174EA6;\n",
              "    }\n",
              "\n",
              "    [theme=dark] .colab-df-convert {\n",
              "      background-color: #3B4455;\n",
              "      fill: #D2E3FC;\n",
              "    }\n",
              "\n",
              "    [theme=dark] .colab-df-convert:hover {\n",
              "      background-color: #434B5C;\n",
              "      box-shadow: 0px 1px 3px 1px rgba(0, 0, 0, 0.15);\n",
              "      filter: drop-shadow(0px 1px 2px rgba(0, 0, 0, 0.3));\n",
              "      fill: #FFFFFF;\n",
              "    }\n",
              "  </style>\n",
              "\n",
              "      <script>\n",
              "        const buttonEl =\n",
              "          document.querySelector('#df-935e2fc6-a1d0-4c78-83cb-8758f4966e0c button.colab-df-convert');\n",
              "        buttonEl.style.display =\n",
              "          google.colab.kernel.accessAllowed ? 'block' : 'none';\n",
              "\n",
              "        async function convertToInteractive(key) {\n",
              "          const element = document.querySelector('#df-935e2fc6-a1d0-4c78-83cb-8758f4966e0c');\n",
              "          const dataTable =\n",
              "            await google.colab.kernel.invokeFunction('convertToInteractive',\n",
              "                                                     [key], {});\n",
              "          if (!dataTable) return;\n",
              "\n",
              "          const docLinkHtml = 'Like what you see? Visit the ' +\n",
              "            '<a target=\"_blank\" href=https://colab.research.google.com/notebooks/data_table.ipynb>data table notebook</a>'\n",
              "            + ' to learn more about interactive tables.';\n",
              "          element.innerHTML = '';\n",
              "          dataTable['output_type'] = 'display_data';\n",
              "          await google.colab.output.renderOutput(dataTable, element);\n",
              "          const docLink = document.createElement('div');\n",
              "          docLink.innerHTML = docLinkHtml;\n",
              "          element.appendChild(docLink);\n",
              "        }\n",
              "      </script>\n",
              "    </div>\n",
              "  </div>\n",
              "  "
            ]
          },
          "metadata": {},
          "execution_count": 4
        }
      ]
    },
    {
      "cell_type": "code",
      "source": [
        "te = TargetEncoder().fit(covid_df.select_dtypes('object'), covid_df['inf_rate'])\n",
        "cat_f = te.transform(covid_df.select_dtypes('object'))\n",
        "covid_df_rf = covid_df.drop(columns=covid_df.select_dtypes('object').columns).join(cat_f).drop(columns='name')\n",
        "# добавим обратно все признаки, кроме name, потому что это айдишник, будет лик"
      ],
      "metadata": {
        "colab": {
          "base_uri": "https://localhost:8080/"
        },
        "id": "24Ezm3K7bw5s",
        "outputId": "38b7d446-c623-4654-dd33-e31bf747403c"
      },
      "execution_count": 5,
      "outputs": [
        {
          "output_type": "stream",
          "name": "stderr",
          "text": [
            "/usr/local/lib/python3.7/dist-packages/category_encoders/target_encoder.py:94: FutureWarning: Default parameter min_samples_leaf will change in version 2.6.See https://github.com/scikit-learn-contrib/category_encoders/issues/327\n",
            "  category=FutureWarning)\n",
            "/usr/local/lib/python3.7/dist-packages/category_encoders/target_encoder.py:99: FutureWarning: Default parameter smoothing will change in version 2.6.See https://github.com/scikit-learn-contrib/category_encoders/issues/327\n",
            "  category=FutureWarning)\n"
          ]
        }
      ]
    },
    {
      "cell_type": "code",
      "source": [
        "# доля больных туберкулезом в городе\n",
        "covid_df_rf['patients_percent_2017'] = covid_df_rf.apply(\n",
        "    lambda x: x['num_patients_tubercul_2017']/x['population'], axis=1)"
      ],
      "metadata": {
        "id": "eYwR8Ynj3Q8l"
      },
      "execution_count": 6,
      "outputs": []
    },
    {
      "cell_type": "code",
      "source": [
        "# объем предлагаемых населению услуг, суммарно\n",
        "covid_df_rf['volume_serv_total'] = covid_df_rf.apply(lambda x: x['volume_serv_household_2017'] +\\\n",
        "                            x['volume_serv_chargeable_2017']+\\\n",
        "                            x['volume_serv_transport_2017'] +\\\n",
        "                            x['volume_serv_post_2017']+\\\n",
        "                            x['volume_serv_accommodation_2017'] +\\\n",
        "                            x['volume_serv_telecom_2017']+\\\n",
        "                            x['volume_serv_others_2017'] +\\\n",
        "                            x['volume_serv_veterinary_2017']+\\\n",
        "                            x['volume_serv_housing_2017'] +\\\n",
        "                            x['volume_serv_education_2017']+\\\n",
        "                            x['volume_serv_medicine_2017'] +\\\n",
        "                            x['volume_serv_disabled_2017']+\\\n",
        "                            x['volume_serv_culture_2017'] +\\\n",
        "                            x['volume_serv_sport_2017']+\\\n",
        "                            x['volume_serv_hotels_2017'] +\\\n",
        "                            x['volume_serv_tourism_2017']+\\\n",
        "                            x['volume_serv_sanatorium_2017'],\n",
        "                            axis=1\n",
        "                        )"
      ],
      "metadata": {
        "id": "r1oIabCS72wZ"
      },
      "execution_count": 7,
      "outputs": []
    },
    {
      "cell_type": "code",
      "source": [
        "[x for x in covid_df_rf.columns if 'urban' in x]"
      ],
      "metadata": {
        "colab": {
          "base_uri": "https://localhost:8080/"
        },
        "id": "xsYsVu8bFLRs",
        "outputId": "bcf73713-0bbd-4655-b739-5fbe995baf49"
      },
      "execution_count": 8,
      "outputs": [
        {
          "output_type": "execute_result",
          "data": {
            "text/plain": [
              "['urban_50-54_years',\n",
              " 'urban_55-59_years',\n",
              " 'urban_60-64_years',\n",
              " 'urban_65-69_years',\n",
              " 'urban_70-74_years',\n",
              " 'urban_75-79_years',\n",
              " 'urban_80-84_years',\n",
              " 'urban_85-89_years',\n",
              " 'urban_90-94_years',\n",
              " 'num_phones_urban_2019',\n",
              " 'urban']"
            ]
          },
          "metadata": {},
          "execution_count": 8
        }
      ]
    },
    {
      "cell_type": "code",
      "source": [
        "# те же признаки, но в процентах от населения города\n",
        "covid_df_rf['urban_50-54_years_percent'] = covid_df.apply(\n",
        "    lambda x: x['urban_50-54_years']/x['whole_population'], axis=1)\n",
        "covid_df_rf['urban_55-59_years_percent'] = covid_df.apply(\n",
        "    lambda x: x['urban_55-59_years']/x['whole_population'], axis=1)\n",
        "covid_df_rf['urban_60-64_years_percent'] = covid_df.apply(\n",
        "    lambda x: x['urban_60-64_years']/x['whole_population'], axis=1)\n",
        "covid_df_rf['urban_65-69_years_percent'] = covid_df.apply(\n",
        "    lambda x: x['urban_65-69_years']/x['whole_population'], axis=1)\n",
        "covid_df_rf['urban_70-74_years_percent'] = covid_df.apply(\n",
        "    lambda x: x['urban_70-74_years']/x['whole_population'], axis=1)\n",
        "covid_df_rf['urban_75-79_years_percent'] = covid_df.apply(\n",
        "    lambda x: x['urban_75-79_years']/x['whole_population'], axis=1)\n",
        "covid_df_rf['urban_80-84_years_percent'] = covid_df.apply(\n",
        "    lambda x: x['urban_80-84_years']/x['whole_population'], axis=1)\n",
        "covid_df_rf['urban_85-89_years_percent'] = covid_df.apply(\n",
        "    lambda x: x['urban_85-89_years']/x['whole_population'], axis=1)\n",
        "covid_df_rf['urban_90-94_years_percent'] = covid_df.apply(\n",
        "    lambda x: x['urban_90-94_years']/x['whole_population'], axis=1)\n",
        "covid_df_rf['urban_percent'] = covid_df.apply(\n",
        "    lambda x: x['urban']/x['whole_population'], axis=1)"
      ],
      "metadata": {
        "id": "6iBsr2wJB3_S"
      },
      "execution_count": 9,
      "outputs": []
    },
    {
      "cell_type": "markdown",
      "source": [
        "### Удалим ненужные признаки"
      ],
      "metadata": {
        "id": "s1gHaFw9H_Hq"
      }
    },
    {
      "cell_type": "code",
      "source": [
        "covid_df_rf = covid_df_rf.drop(columns=[\n",
        "    'num_patients_tubercul_1992',\n",
        "    'num_patients_tubercul_1993',\n",
        "    'num_patients_tubercul_1994',\n",
        "    'num_patients_tubercul_1995',\n",
        "    'num_patients_tubercul_1996',\n",
        "    'num_patients_tubercul_1997',\n",
        "    'num_patients_tubercul_1998',\n",
        "    'num_patients_tubercul_1999',\n",
        "    'num_patients_tubercul_2000',\n",
        "    'num_patients_tubercul_2001',\n",
        "    'num_patients_tubercul_2002',\n",
        "    'num_patients_tubercul_2003',\n",
        "    'num_patients_tubercul_2004',\n",
        "    'num_patients_tubercul_2005',\n",
        "    'num_patients_tubercul_2006',\n",
        "    'num_patients_tubercul_2007',\n",
        "    'num_patients_tubercul_2008',\n",
        "    'num_patients_tubercul_2009',\n",
        "    'num_patients_tubercul_2010',\n",
        "    'num_patients_tubercul_2011',\n",
        "    'num_patients_tubercul_2012',\n",
        "    'num_patients_tubercul_2013',\n",
        "    'num_patients_tubercul_2014',\n",
        "    'num_patients_tubercul_2015',\n",
        "    'num_patients_tubercul_2016',\n",
        "    'num_patients_tubercul_2017',\n",
        "             ])"
      ],
      "metadata": {
        "id": "EvLTD3kf3ZW-"
      },
      "execution_count": 10,
      "outputs": []
    },
    {
      "cell_type": "code",
      "source": [
        "for col in covid_df_rf.columns:\n",
        "  if covid_df_rf[covid_df_rf[col].isna()].shape[0] != 0:\n",
        "    print(f\"COLUMN: {col}\")\n",
        "    print(covid_df_rf[covid_df_rf[col].isna()].shape)"
      ],
      "metadata": {
        "colab": {
          "base_uri": "https://localhost:8080/"
        },
        "id": "a3e6kxlY6ipv",
        "outputId": "67e4a6fc-024e-41f7-991e-7a27f418427b"
      },
      "execution_count": 11,
      "outputs": [
        {
          "output_type": "stream",
          "name": "stdout",
          "text": [
            "COLUMN: ivl_per_100k\n",
            "(68, 105)\n",
            "COLUMN: ivl_number\n",
            "(68, 105)\n",
            "COLUMN: ekmo_per_100k\n",
            "(68, 105)\n",
            "COLUMN: ekmo_number\n",
            "(217, 105)\n",
            "COLUMN: life_quality_place_rating\n",
            "(295, 105)\n",
            "COLUMN: ecology\n",
            "(295, 105)\n",
            "COLUMN: cleanness\n",
            "(295, 105)\n",
            "COLUMN: public_services\n",
            "(295, 105)\n",
            "COLUMN: neighbourhood\n",
            "(295, 105)\n",
            "COLUMN: children_places\n",
            "(295, 105)\n",
            "COLUMN: sport_and_outdoor\n",
            "(295, 105)\n",
            "COLUMN: shops_and_malls\n",
            "(295, 105)\n",
            "COLUMN: public_transport\n",
            "(295, 105)\n",
            "COLUMN: security\n",
            "(295, 105)\n",
            "COLUMN: life_costs\n",
            "(295, 105)\n",
            "COLUMN: epirank_avia\n",
            "(352, 105)\n",
            "COLUMN: epirank_bus\n",
            "(88, 105)\n",
            "COLUMN: epirank_train\n",
            "(144, 105)\n",
            "COLUMN: epirank_avia_cat\n",
            "(352, 105)\n",
            "COLUMN: epirank_bus_cat\n",
            "(88, 105)\n",
            "COLUMN: epirank_train_cat\n",
            "(144, 105)\n"
          ]
        }
      ]
    },
    {
      "cell_type": "code",
      "source": [
        "# много пропущенных значений\n",
        "covid_df_rf = covid_df_rf.drop(columns=[\n",
        "    'life_costs',\n",
        "    'epirank_avia',\n",
        "    'epirank_bus',\n",
        "    'epirank_train',\n",
        "    'epirank_avia_cat',\n",
        "    'epirank_bus_cat',\n",
        "    'epirank_train_cat',\n",
        "    'life_quality_place_rating',\n",
        "    'ecology',\n",
        "    'public_services',\n",
        "    'neighbourhood',\n",
        "    'children_places',\n",
        "    'shops_and_malls',\n",
        "    'public_transport',\n",
        "    'security'\n",
        "])"
      ],
      "metadata": {
        "id": "tQHMBnGZypF3"
      },
      "execution_count": 12,
      "outputs": []
    },
    {
      "cell_type": "markdown",
      "source": [
        "### Обучим модель"
      ],
      "metadata": {
        "id": "PoEpTUaYL6-l"
      }
    },
    {
      "cell_type": "code",
      "source": [
        "X_train, X_test, y_train, y_test = train_test_split(\n",
        "    covid_df_rf.drop(columns=['inf_rate']),\n",
        "    covid_df_rf['inf_rate'],\n",
        "    test_size=0.33,\n",
        "     random_state=42,\n",
        "     )"
      ],
      "metadata": {
        "id": "PnMATZJsckn0"
      },
      "execution_count": 13,
      "outputs": []
    },
    {
      "cell_type": "code",
      "source": [
        "covid_df_rf.shape"
      ],
      "metadata": {
        "colab": {
          "base_uri": "https://localhost:8080/"
        },
        "id": "xCqcFxZH7XDp",
        "outputId": "86371933-1748-4b76-b8a3-bb72744751f5"
      },
      "execution_count": 14,
      "outputs": [
        {
          "output_type": "execute_result",
          "data": {
            "text/plain": [
              "(395, 90)"
            ]
          },
          "metadata": {},
          "execution_count": 14
        }
      ]
    },
    {
      "cell_type": "code",
      "source": [
        "clf = RandomForestRegressor(max_depth=5, n_estimators=20, random_state=42)\n",
        "clf.fit(X_train.fillna(-1), y_train)"
      ],
      "metadata": {
        "colab": {
          "base_uri": "https://localhost:8080/"
        },
        "id": "VGlYN4OLc25w",
        "outputId": "7ac1f703-7f20-4e18-f42d-3377a3b79c80"
      },
      "execution_count": 15,
      "outputs": [
        {
          "output_type": "execute_result",
          "data": {
            "text/plain": [
              "RandomForestRegressor(max_depth=5, n_estimators=20, random_state=42)"
            ]
          },
          "metadata": {},
          "execution_count": 15
        }
      ]
    },
    {
      "cell_type": "code",
      "source": [
        "mean_absolute_error(y_test, clf.predict(X_test.fillna(-1)))"
      ],
      "metadata": {
        "colab": {
          "base_uri": "https://localhost:8080/"
        },
        "id": "YBgZfS6Nc_Ho",
        "outputId": "556f9b26-ca1e-47b6-e3eb-bea17cbc6688"
      },
      "execution_count": 16,
      "outputs": [
        {
          "output_type": "execute_result",
          "data": {
            "text/plain": [
              "0.011249832803061405"
            ]
          },
          "metadata": {},
          "execution_count": 16
        }
      ]
    },
    {
      "cell_type": "code",
      "source": [
        "mean_absolute_error(y_train, clf.predict(X_train.fillna(-1)))"
      ],
      "metadata": {
        "colab": {
          "base_uri": "https://localhost:8080/"
        },
        "id": "ZFmdPqAGdG0y",
        "outputId": "3edb2235-37f1-44b8-cd6e-9b08cc8d1070"
      },
      "execution_count": 17,
      "outputs": [
        {
          "output_type": "execute_result",
          "data": {
            "text/plain": [
              "0.011923574729247833"
            ]
          },
          "metadata": {},
          "execution_count": 17
        }
      ]
    },
    {
      "cell_type": "markdown",
      "source": [
        "GridSearch"
      ],
      "metadata": {
        "id": "EY33ROTwhewu"
      }
    },
    {
      "cell_type": "code",
      "source": [
        "clf = RandomForestRegressor(random_state=0)\n",
        "params = [{'max_depth': [2, 3, 4, 5],\n",
        "         'n_estimators': [8, 10, 12, 15, 18, 20]}]\n",
        "clf_gs = GridSearchCV(clf,\n",
        "                      param_grid=params,\n",
        "                      scoring='neg_mean_absolute_error',\n",
        "                      cv=5)\n",
        "clf_gs.fit(X_train.fillna(-1), y_train)\n",
        "clf_gs.best_params_"
      ],
      "metadata": {
        "colab": {
          "base_uri": "https://localhost:8080/"
        },
        "id": "lh1gf_eLdNpv",
        "outputId": "27dc00c2-2021-4de6-d24f-85875bc60a7e"
      },
      "execution_count": 18,
      "outputs": [
        {
          "output_type": "execute_result",
          "data": {
            "text/plain": [
              "{'max_depth': 5, 'n_estimators': 20}"
            ]
          },
          "metadata": {},
          "execution_count": 18
        }
      ]
    },
    {
      "cell_type": "code",
      "source": [
        "clf = RandomForestRegressor(max_depth=5, n_estimators=20, random_state=0)\n",
        "clf.fit(X_train.fillna(-1), y_train)"
      ],
      "metadata": {
        "colab": {
          "base_uri": "https://localhost:8080/"
        },
        "id": "dvng7a7jh92f",
        "outputId": "5ace84ae-2071-4070-8010-536a75b8746b"
      },
      "execution_count": 19,
      "outputs": [
        {
          "output_type": "execute_result",
          "data": {
            "text/plain": [
              "RandomForestRegressor(max_depth=5, n_estimators=20, random_state=0)"
            ]
          },
          "metadata": {},
          "execution_count": 19
        }
      ]
    },
    {
      "cell_type": "code",
      "source": [
        "mean_absolute_error(y_test, clf.predict(X_test.fillna(-1)))"
      ],
      "metadata": {
        "outputId": "7eec1668-1f9b-41e6-de18-d24d1901506a",
        "colab": {
          "base_uri": "https://localhost:8080/"
        },
        "id": "Vz7OPQ3PicZk"
      },
      "execution_count": 20,
      "outputs": [
        {
          "output_type": "execute_result",
          "data": {
            "text/plain": [
              "0.010789677070830377"
            ]
          },
          "metadata": {},
          "execution_count": 20
        }
      ]
    },
    {
      "cell_type": "code",
      "source": [
        "mean_absolute_error(y_train, clf.predict(X_train.fillna(-1)))"
      ],
      "metadata": {
        "outputId": "a2569c34-973b-4544-fcb8-f64b2d815104",
        "colab": {
          "base_uri": "https://localhost:8080/"
        },
        "id": "Y59uFXTMicZl"
      },
      "execution_count": 21,
      "outputs": [
        {
          "output_type": "execute_result",
          "data": {
            "text/plain": [
              "0.00883888245320205"
            ]
          },
          "metadata": {},
          "execution_count": 21
        }
      ]
    },
    {
      "cell_type": "markdown",
      "source": [
        "Сохраним модель и данные"
      ],
      "metadata": {
        "id": "y9QgY9nqNnxw"
      }
    },
    {
      "cell_type": "code",
      "source": [
        "import pickle"
      ],
      "metadata": {
        "id": "HKo2KnG5bjB2"
      },
      "execution_count": 22,
      "outputs": []
    },
    {
      "cell_type": "code",
      "source": [
        "with open('model.pickle', 'wb') as handle:\n",
        "    pickle.dump(clf, handle, protocol=pickle.HIGHEST_PROTOCOL)"
      ],
      "metadata": {
        "id": "PSjPV47jbSi4"
      },
      "execution_count": 23,
      "outputs": []
    },
    {
      "cell_type": "code",
      "source": [
        "X_train = X_train.fillna(-1)\n",
        "X_test = X_test.fillna(-1)"
      ],
      "metadata": {
        "id": "dNeMe2tebsA_"
      },
      "execution_count": 24,
      "outputs": []
    },
    {
      "cell_type": "code",
      "source": [
        "X_train.to_pickle('X_train.pickle')\n",
        "X_test.to_pickle('X_test.pickle')\n",
        "y_train.to_pickle('y_train.pickle')\n",
        "y_test.to_pickle('y_test.pickle')"
      ],
      "metadata": {
        "id": "KBcF4ch9blwW"
      },
      "execution_count": 25,
      "outputs": []
    },
    {
      "cell_type": "markdown",
      "source": [
        "Признаки с наибольшим feature importance в этой модели:"
      ],
      "metadata": {
        "id": "kwxShWxsN0IC"
      }
    },
    {
      "cell_type": "code",
      "source": [
        "pd.DataFrame(list(zip(X_train.columns, clf.feature_importances_))).rename(\n",
        "    columns={0:'feature', 1:'importance'}).sort_values('importance', ascending=False).head(20) #.to_excel('fi_random_forest.xlsx', index=False)"
      ],
      "metadata": {
        "colab": {
          "base_uri": "https://localhost:8080/",
          "height": 677
        },
        "id": "rFMTF4QminO1",
        "outputId": "df242dbc-13ea-451a-f271-4febfdfdc6b1"
      },
      "execution_count": 26,
      "outputs": [
        {
          "output_type": "execute_result",
          "data": {
            "text/plain": [
              "                        feature  importance\n",
              "76                     region_x    0.438401\n",
              "75                      subject    0.369092\n",
              "47       work_ratio_15-64_years    0.078389\n",
              "44       work_ratio_15-72_years    0.070390\n",
              "45       work_ratio_55-64_years    0.018320\n",
              "3                       density    0.009425\n",
              "62       volume_serv_sport_2017    0.005673\n",
              "65  volume_serv_sanatorium_2017    0.001360\n",
              "61     volume_serv_culture_2017    0.000862\n",
              "30            urban_70-74_years    0.000827\n",
              "50  volume_serv_chargeable_2017    0.000670\n",
              "18                 pressure_min    0.000646\n",
              "27            urban_55-59_years    0.000602\n",
              "17              humidity_median    0.000517\n",
              "32            urban_80-84_years    0.000342\n",
              "26            urban_50-54_years    0.000306\n",
              "35            rural_50-54_years    0.000298\n",
              "31            urban_75-79_years    0.000288\n",
              "67        num_phones_urban_2019    0.000282\n",
              "56  volume_serv_veterinary_2017    0.000277"
            ],
            "text/html": [
              "\n",
              "  <div id=\"df-1c6ef3d6-ed5c-4f61-88c6-dc1c71abbe84\">\n",
              "    <div class=\"colab-df-container\">\n",
              "      <div>\n",
              "<style scoped>\n",
              "    .dataframe tbody tr th:only-of-type {\n",
              "        vertical-align: middle;\n",
              "    }\n",
              "\n",
              "    .dataframe tbody tr th {\n",
              "        vertical-align: top;\n",
              "    }\n",
              "\n",
              "    .dataframe thead th {\n",
              "        text-align: right;\n",
              "    }\n",
              "</style>\n",
              "<table border=\"1\" class=\"dataframe\">\n",
              "  <thead>\n",
              "    <tr style=\"text-align: right;\">\n",
              "      <th></th>\n",
              "      <th>feature</th>\n",
              "      <th>importance</th>\n",
              "    </tr>\n",
              "  </thead>\n",
              "  <tbody>\n",
              "    <tr>\n",
              "      <th>76</th>\n",
              "      <td>region_x</td>\n",
              "      <td>0.438401</td>\n",
              "    </tr>\n",
              "    <tr>\n",
              "      <th>75</th>\n",
              "      <td>subject</td>\n",
              "      <td>0.369092</td>\n",
              "    </tr>\n",
              "    <tr>\n",
              "      <th>47</th>\n",
              "      <td>work_ratio_15-64_years</td>\n",
              "      <td>0.078389</td>\n",
              "    </tr>\n",
              "    <tr>\n",
              "      <th>44</th>\n",
              "      <td>work_ratio_15-72_years</td>\n",
              "      <td>0.070390</td>\n",
              "    </tr>\n",
              "    <tr>\n",
              "      <th>45</th>\n",
              "      <td>work_ratio_55-64_years</td>\n",
              "      <td>0.018320</td>\n",
              "    </tr>\n",
              "    <tr>\n",
              "      <th>3</th>\n",
              "      <td>density</td>\n",
              "      <td>0.009425</td>\n",
              "    </tr>\n",
              "    <tr>\n",
              "      <th>62</th>\n",
              "      <td>volume_serv_sport_2017</td>\n",
              "      <td>0.005673</td>\n",
              "    </tr>\n",
              "    <tr>\n",
              "      <th>65</th>\n",
              "      <td>volume_serv_sanatorium_2017</td>\n",
              "      <td>0.001360</td>\n",
              "    </tr>\n",
              "    <tr>\n",
              "      <th>61</th>\n",
              "      <td>volume_serv_culture_2017</td>\n",
              "      <td>0.000862</td>\n",
              "    </tr>\n",
              "    <tr>\n",
              "      <th>30</th>\n",
              "      <td>urban_70-74_years</td>\n",
              "      <td>0.000827</td>\n",
              "    </tr>\n",
              "    <tr>\n",
              "      <th>50</th>\n",
              "      <td>volume_serv_chargeable_2017</td>\n",
              "      <td>0.000670</td>\n",
              "    </tr>\n",
              "    <tr>\n",
              "      <th>18</th>\n",
              "      <td>pressure_min</td>\n",
              "      <td>0.000646</td>\n",
              "    </tr>\n",
              "    <tr>\n",
              "      <th>27</th>\n",
              "      <td>urban_55-59_years</td>\n",
              "      <td>0.000602</td>\n",
              "    </tr>\n",
              "    <tr>\n",
              "      <th>17</th>\n",
              "      <td>humidity_median</td>\n",
              "      <td>0.000517</td>\n",
              "    </tr>\n",
              "    <tr>\n",
              "      <th>32</th>\n",
              "      <td>urban_80-84_years</td>\n",
              "      <td>0.000342</td>\n",
              "    </tr>\n",
              "    <tr>\n",
              "      <th>26</th>\n",
              "      <td>urban_50-54_years</td>\n",
              "      <td>0.000306</td>\n",
              "    </tr>\n",
              "    <tr>\n",
              "      <th>35</th>\n",
              "      <td>rural_50-54_years</td>\n",
              "      <td>0.000298</td>\n",
              "    </tr>\n",
              "    <tr>\n",
              "      <th>31</th>\n",
              "      <td>urban_75-79_years</td>\n",
              "      <td>0.000288</td>\n",
              "    </tr>\n",
              "    <tr>\n",
              "      <th>67</th>\n",
              "      <td>num_phones_urban_2019</td>\n",
              "      <td>0.000282</td>\n",
              "    </tr>\n",
              "    <tr>\n",
              "      <th>56</th>\n",
              "      <td>volume_serv_veterinary_2017</td>\n",
              "      <td>0.000277</td>\n",
              "    </tr>\n",
              "  </tbody>\n",
              "</table>\n",
              "</div>\n",
              "      <button class=\"colab-df-convert\" onclick=\"convertToInteractive('df-1c6ef3d6-ed5c-4f61-88c6-dc1c71abbe84')\"\n",
              "              title=\"Convert this dataframe to an interactive table.\"\n",
              "              style=\"display:none;\">\n",
              "        \n",
              "  <svg xmlns=\"http://www.w3.org/2000/svg\" height=\"24px\"viewBox=\"0 0 24 24\"\n",
              "       width=\"24px\">\n",
              "    <path d=\"M0 0h24v24H0V0z\" fill=\"none\"/>\n",
              "    <path d=\"M18.56 5.44l.94 2.06.94-2.06 2.06-.94-2.06-.94-.94-2.06-.94 2.06-2.06.94zm-11 1L8.5 8.5l.94-2.06 2.06-.94-2.06-.94L8.5 2.5l-.94 2.06-2.06.94zm10 10l.94 2.06.94-2.06 2.06-.94-2.06-.94-.94-2.06-.94 2.06-2.06.94z\"/><path d=\"M17.41 7.96l-1.37-1.37c-.4-.4-.92-.59-1.43-.59-.52 0-1.04.2-1.43.59L10.3 9.45l-7.72 7.72c-.78.78-.78 2.05 0 2.83L4 21.41c.39.39.9.59 1.41.59.51 0 1.02-.2 1.41-.59l7.78-7.78 2.81-2.81c.8-.78.8-2.07 0-2.86zM5.41 20L4 18.59l7.72-7.72 1.47 1.35L5.41 20z\"/>\n",
              "  </svg>\n",
              "      </button>\n",
              "      \n",
              "  <style>\n",
              "    .colab-df-container {\n",
              "      display:flex;\n",
              "      flex-wrap:wrap;\n",
              "      gap: 12px;\n",
              "    }\n",
              "\n",
              "    .colab-df-convert {\n",
              "      background-color: #E8F0FE;\n",
              "      border: none;\n",
              "      border-radius: 50%;\n",
              "      cursor: pointer;\n",
              "      display: none;\n",
              "      fill: #1967D2;\n",
              "      height: 32px;\n",
              "      padding: 0 0 0 0;\n",
              "      width: 32px;\n",
              "    }\n",
              "\n",
              "    .colab-df-convert:hover {\n",
              "      background-color: #E2EBFA;\n",
              "      box-shadow: 0px 1px 2px rgba(60, 64, 67, 0.3), 0px 1px 3px 1px rgba(60, 64, 67, 0.15);\n",
              "      fill: #174EA6;\n",
              "    }\n",
              "\n",
              "    [theme=dark] .colab-df-convert {\n",
              "      background-color: #3B4455;\n",
              "      fill: #D2E3FC;\n",
              "    }\n",
              "\n",
              "    [theme=dark] .colab-df-convert:hover {\n",
              "      background-color: #434B5C;\n",
              "      box-shadow: 0px 1px 3px 1px rgba(0, 0, 0, 0.15);\n",
              "      filter: drop-shadow(0px 1px 2px rgba(0, 0, 0, 0.3));\n",
              "      fill: #FFFFFF;\n",
              "    }\n",
              "  </style>\n",
              "\n",
              "      <script>\n",
              "        const buttonEl =\n",
              "          document.querySelector('#df-1c6ef3d6-ed5c-4f61-88c6-dc1c71abbe84 button.colab-df-convert');\n",
              "        buttonEl.style.display =\n",
              "          google.colab.kernel.accessAllowed ? 'block' : 'none';\n",
              "\n",
              "        async function convertToInteractive(key) {\n",
              "          const element = document.querySelector('#df-1c6ef3d6-ed5c-4f61-88c6-dc1c71abbe84');\n",
              "          const dataTable =\n",
              "            await google.colab.kernel.invokeFunction('convertToInteractive',\n",
              "                                                     [key], {});\n",
              "          if (!dataTable) return;\n",
              "\n",
              "          const docLinkHtml = 'Like what you see? Visit the ' +\n",
              "            '<a target=\"_blank\" href=https://colab.research.google.com/notebooks/data_table.ipynb>data table notebook</a>'\n",
              "            + ' to learn more about interactive tables.';\n",
              "          element.innerHTML = '';\n",
              "          dataTable['output_type'] = 'display_data';\n",
              "          await google.colab.output.renderOutput(dataTable, element);\n",
              "          const docLink = document.createElement('div');\n",
              "          docLink.innerHTML = docLinkHtml;\n",
              "          element.appendChild(docLink);\n",
              "        }\n",
              "      </script>\n",
              "    </div>\n",
              "  </div>\n",
              "  "
            ]
          },
          "metadata": {},
          "execution_count": 26
        }
      ]
    },
    {
      "cell_type": "markdown",
      "source": [
        "### Рассчитаем значения для теста"
      ],
      "metadata": {
        "id": "6PPZyw3NONgS"
      }
    },
    {
      "cell_type": "code",
      "source": [
        "test_df = pd.read_csv(PATH_TO_TEST)"
      ],
      "metadata": {
        "id": "onQuz_sPNxPC"
      },
      "execution_count": 27,
      "outputs": []
    },
    {
      "cell_type": "code",
      "source": [
        "cat_test = te.transform(test_df.select_dtypes('object'))\n",
        "test_df = test_df.drop(columns=test_df.select_dtypes('object').columns).join(cat_test).drop(columns='name')"
      ],
      "metadata": {
        "id": "kOh7UjXrO-hp"
      },
      "execution_count": 28,
      "outputs": []
    },
    {
      "cell_type": "code",
      "source": [
        "test_df['patients_percent_2017'] = test_df.apply(\n",
        "    lambda x: x['num_patients_tubercul_2017']/x['population'], axis=1)"
      ],
      "metadata": {
        "id": "aVKUeKK0QNuy"
      },
      "execution_count": 29,
      "outputs": []
    },
    {
      "cell_type": "code",
      "source": [
        "test_df['volume_serv_total'] = test_df.apply(lambda x: x['volume_serv_household_2017'] +\\\n",
        "                            x['volume_serv_chargeable_2017']+\\\n",
        "                            x['volume_serv_transport_2017'] +\\\n",
        "                            x['volume_serv_post_2017']+\\\n",
        "                            x['volume_serv_accommodation_2017'] +\\\n",
        "                            x['volume_serv_telecom_2017']+\\\n",
        "                            x['volume_serv_others_2017'] +\\\n",
        "                            x['volume_serv_veterinary_2017']+\\\n",
        "                            x['volume_serv_housing_2017'] +\\\n",
        "                            x['volume_serv_education_2017']+\\\n",
        "                            x['volume_serv_medicine_2017'] +\\\n",
        "                            x['volume_serv_disabled_2017']+\\\n",
        "                            x['volume_serv_culture_2017'] +\\\n",
        "                            x['volume_serv_sport_2017']+\\\n",
        "                            x['volume_serv_hotels_2017'] +\\\n",
        "                            x['volume_serv_tourism_2017']+\\\n",
        "                            x['volume_serv_sanatorium_2017'],\n",
        "                            axis=1\n",
        "                        )"
      ],
      "metadata": {
        "id": "h79HYUw9QNuz"
      },
      "execution_count": 30,
      "outputs": []
    },
    {
      "cell_type": "code",
      "source": [
        "# те же признаки, но в процентах от населения города\n",
        "test_df['urban_50-54_years_percent'] = test_df.apply(\n",
        "    lambda x: x['urban_50-54_years']/x['whole_population'], axis=1)\n",
        "test_df['urban_55-59_years_percent'] = test_df.apply(\n",
        "    lambda x: x['urban_55-59_years']/x['whole_population'], axis=1)\n",
        "test_df['urban_60-64_years_percent'] = test_df.apply(\n",
        "    lambda x: x['urban_60-64_years']/x['whole_population'], axis=1)\n",
        "test_df['urban_65-69_years_percent'] = test_df.apply(\n",
        "    lambda x: x['urban_65-69_years']/x['whole_population'], axis=1)\n",
        "test_df['urban_70-74_years_percent'] = test_df.apply(\n",
        "    lambda x: x['urban_70-74_years']/x['whole_population'], axis=1)\n",
        "test_df['urban_75-79_years_percent'] = test_df.apply(\n",
        "    lambda x: x['urban_75-79_years']/x['whole_population'], axis=1)\n",
        "test_df['urban_80-84_years_percent'] = test_df.apply(\n",
        "    lambda x: x['urban_80-84_years']/x['whole_population'], axis=1)\n",
        "test_df['urban_85-89_years_percent'] = test_df.apply(\n",
        "    lambda x: x['urban_85-89_years']/x['whole_population'], axis=1)\n",
        "test_df['urban_90-94_years_percent'] = test_df.apply(\n",
        "    lambda x: x['urban_90-94_years']/x['whole_population'], axis=1)\n",
        "test_df['urban_percent'] = test_df.apply(\n",
        "    lambda x: x['urban']/x['whole_population'], axis=1)"
      ],
      "metadata": {
        "id": "bzUftkWuQNu0"
      },
      "execution_count": 31,
      "outputs": []
    },
    {
      "cell_type": "code",
      "source": [
        "test_df = test_df.drop(columns=[\n",
        "    'num_patients_tubercul_1992',\n",
        "    'num_patients_tubercul_1993',\n",
        "    'num_patients_tubercul_1994',\n",
        "    'num_patients_tubercul_1995',\n",
        "    'num_patients_tubercul_1996',\n",
        "    'num_patients_tubercul_1997',\n",
        "    'num_patients_tubercul_1998',\n",
        "    'num_patients_tubercul_1999',\n",
        "    'num_patients_tubercul_2000',\n",
        "    'num_patients_tubercul_2001',\n",
        "    'num_patients_tubercul_2002',\n",
        "    'num_patients_tubercul_2003',\n",
        "    'num_patients_tubercul_2004',\n",
        "    'num_patients_tubercul_2005',\n",
        "    'num_patients_tubercul_2006',\n",
        "    'num_patients_tubercul_2007',\n",
        "    'num_patients_tubercul_2008',\n",
        "    'num_patients_tubercul_2009',\n",
        "    'num_patients_tubercul_2010',\n",
        "    'num_patients_tubercul_2011',\n",
        "    'num_patients_tubercul_2012',\n",
        "    'num_patients_tubercul_2013',\n",
        "    'num_patients_tubercul_2014',\n",
        "    'num_patients_tubercul_2015',\n",
        "    'num_patients_tubercul_2016',\n",
        "    'num_patients_tubercul_2017',\n",
        "             ])"
      ],
      "metadata": {
        "id": "LzTKMj2CQNu3"
      },
      "execution_count": 32,
      "outputs": []
    },
    {
      "cell_type": "code",
      "source": [
        "test_df = test_df.drop(columns=[\n",
        "    'life_costs',\n",
        "    'epirank_avia',\n",
        "    'epirank_bus',\n",
        "    'epirank_train',\n",
        "    'epirank_avia_cat',\n",
        "    'epirank_bus_cat',\n",
        "    'epirank_train_cat',\n",
        "    'life_quality_place_rating',\n",
        "    'ecology',\n",
        "    'public_services',\n",
        "    'neighbourhood',\n",
        "    'children_places',\n",
        "    'shops_and_malls',\n",
        "    'public_transport',\n",
        "    'security'\n",
        "])"
      ],
      "metadata": {
        "id": "hIQb72ZvQNu3"
      },
      "execution_count": 33,
      "outputs": []
    },
    {
      "cell_type": "code",
      "source": [
        "predicted = clf.predict(test_df.fillna(-1).drop(columns=['Unnamed: 0', 'inf_rate']))"
      ],
      "metadata": {
        "id": "XLNfB4JmPDFv"
      },
      "execution_count": 35,
      "outputs": []
    },
    {
      "cell_type": "code",
      "source": [
        "sub_df = pd.read_csv('submission.csv')"
      ],
      "metadata": {
        "id": "HqcuZcIxSOdM"
      },
      "execution_count": 36,
      "outputs": []
    },
    {
      "cell_type": "code",
      "source": [
        "sub_df['inf_rate'] = predicted"
      ],
      "metadata": {
        "id": "iMWvuq51SccT"
      },
      "execution_count": 38,
      "outputs": []
    },
    {
      "cell_type": "code",
      "source": [
        "sub_df.to_csv('submission.csv')"
      ],
      "metadata": {
        "id": "s-ulV33mSdJZ"
      },
      "execution_count": 39,
      "outputs": []
    },
    {
      "cell_type": "code",
      "source": [
        ""
      ],
      "metadata": {
        "id": "NaejymszSo8i"
      },
      "execution_count": null,
      "outputs": []
    }
  ]
}